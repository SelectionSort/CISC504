{
 "cells": [
  {
   "cell_type": "code",
   "execution_count": null,
   "metadata": {},
   "outputs": [],
   "source": [
    "# Exercise 1\n",
    "# Modified and coded version of Zelle Future Value example listed in Chapter 2\n",
    "principal = float(input('Enter the initial principal: '))\n",
    "apr = float(input('Enter the annualized interest rate: '))\n",
    "def main(): print ('This program calculates the future value of a 10-year investment.')\n",
    "for i in range(10):principal = principal * (1 + apr)\n",
    "print ('The amount in 10 years is:', principal)\n",
    "\n",
    "main()"
   ]
  },
  {
   "cell_type": "code",
   "execution_count": null,
   "metadata": {},
   "outputs": [],
   "source": [
    "# From the future value example listed above list one of each of the following: \n",
    "# Name, expression, output statement, and a simple variable assignment."
   ]
  },
  {
   "cell_type": "code",
   "execution_count": null,
   "metadata": {},
   "outputs": [],
   "source": [
    "# Exercise 1 answers:\n",
    "# The Name of the defined function is \"main\"\n",
    "# A numerical expression: principal = principal * (1 + apr)\n",
    "# The last output statement is a string: This program calculates the future value of a 10-year investment.\n",
    "# One simple variable assignment: assign apr as a numerical variable to represent annualized intertest rate."
   ]
  },
  {
   "cell_type": "code",
   "execution_count": null,
   "metadata": {},
   "outputs": [],
   "source": [
    "# Exercise 2\n",
    "# Develop your own conversion program using the steps outlined above,\n",
    "# include requirements, specifications, flow chart, pseudocode, and code."
   ]
  },
  {
   "cell_type": "code",
   "execution_count": null,
   "metadata": {},
   "outputs": [],
   "source": [
    "# Requirements: This program is deisgned to calcuate the tip amount based on the original charge on the check bill\n",
    "# Client wants to have the total payment amount based on the local tip rate to complete the check"
   ]
  },
  {
   "cell_type": "code",
   "execution_count": null,
   "metadata": {},
   "outputs": [],
   "source": [
    "# Specifications: The input for this program will the original charge amount on the check and local tip rate\n",
    "# The unit for charge amount will be in US dollars\n",
    "# The unit for local tip rate will be percentage\n",
    "# The tip is calculated as tip rate times original charge amount\n",
    "# The total payment amount will be the sum of tip amount and original charge amount \n",
    "# The unit for total payment will be in US dollars\n",
    "# String statements will be added to help guide the client to input the data, and read the output results"
   ]
  },
  {
   "cell_type": "code",
   "execution_count": null,
   "metadata": {},
   "outputs": [],
   "source": [
    "# Flowchart \n",
    "![title](\"CISC504_HW2_flowchart.png\")"
   ]
  },
  {
   "cell_type": "code",
   "execution_count": 5,
   "metadata": {},
   "outputs": [],
   "source": [
    "# Pseudocode:\n",
    "# Input the original charge amount in US dollars (call it charge)\n",
    "# Input the local tip rate (call it tipRate)\n",
    "# Calculate total amount as (tipRate + 1)*charge (call it total)\n",
    "# Output total payment"
   ]
  },
  {
   "cell_type": "code",
   "execution_count": 6,
   "metadata": {},
   "outputs": [],
   "source": [
    "# convert.py\n",
    "#      A program to calculate total payment based on the original charge and tip rate on the check.\n",
    "# by: Yihong Jiang"
   ]
  },
  {
   "cell_type": "code",
   "execution_count": 4,
   "metadata": {},
   "outputs": [
    {
     "name": "stdout",
     "output_type": "stream",
     "text": [
      "Please enter the original charge on the check($): 105.59\n",
      "Please enter your local tip rate(%): 15\n",
      "The total amount is($): 121.4285\n",
      "This program calculates total payment of a check including tips.\n"
     ]
    }
   ],
   "source": [
    "charge = float(input('Please enter the original charge on the check($): '))\n",
    "tipRate = float(input('Please enter your local tip rate(%): '))\n",
    "def main(): print ('This program calculates total payment of a check including tips.')\n",
    "total = float(charge*(1 + tipRate/100))\n",
    "print ('The total amount is($):', total)\n",
    "\n",
    "main()"
   ]
  },
  {
   "cell_type": "code",
   "execution_count": null,
   "metadata": {},
   "outputs": [],
   "source": []
  }
 ],
 "metadata": {
  "kernelspec": {
   "display_name": "Python 3",
   "language": "python",
   "name": "python3"
  },
  "language_info": {
   "codemirror_mode": {
    "name": "ipython",
    "version": 3
   },
   "file_extension": ".py",
   "mimetype": "text/x-python",
   "name": "python",
   "nbconvert_exporter": "python",
   "pygments_lexer": "ipython3",
   "version": "3.7.0"
  }
 },
 "nbformat": 4,
 "nbformat_minor": 2
}
