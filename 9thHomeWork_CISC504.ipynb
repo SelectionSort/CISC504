{
 "cells": [
  {
   "cell_type": "code",
   "execution_count": 12,
   "metadata": {},
   "outputs": [
    {
     "name": "stdout",
     "output_type": "stream",
     "text": [
      "1 This number is odd.\n",
      "4 This number is even.\n",
      "5 This number is odd.\n",
      "6 This number is even.\n",
      "3 This number is odd.\n",
      "2 This number is even.\n",
      "7 This number is odd.\n",
      "8 This number is even.\n",
      "66 This number is even.\n",
      "54 This number is even.\n",
      "78 This number is even.\n",
      "97 This number is odd.\n",
      "54 This number is even.\n",
      "34 This number is even.\n",
      "67 This number is odd.\n",
      "65 This number is odd.\n",
      "56 This number is even.\n",
      "45 This number is odd.\n",
      "54 This number is even.\n",
      "The loop is done.\n"
     ]
    }
   ],
   "source": [
    "# Exercise 1. \n",
    "\n",
    "List_1 = [1, 4, 5, 6, 3, 2, 7, 8, 66, 54, 78, 97, 54, 34, 67, 65, 56, 45, 54]\n",
    "\n",
    "for var1 in List_1:  \n",
    "    if var1 % 2 == 0:  \n",
    "        print(str(var1)+ ' This number is even.')\n",
    "    else:\n",
    "        print(str(var1)+ ' This number is odd.')\n",
    "        \n",
    "print('The loop is done.')"
   ]
  },
  {
   "cell_type": "code",
   "execution_count": 6,
   "metadata": {},
   "outputs": [
    {
     "name": "stdout",
     "output_type": "stream",
     "text": [
      "1 This number is odd\n",
      "4 This number is even\n",
      "5 This number is odd\n",
      "6 This number is even\n",
      "3 This number is odd\n",
      "2 This number is even\n",
      "7 This number is odd\n",
      "8 This number is even\n",
      "The loop is done.\n"
     ]
    }
   ],
   "source": [
    "# Exercise 1.\n",
    "# Modifed: loop stops at value 66. \n",
    "\n",
    "List_1 = [1, 4, 5, 6, 3, 2, 7, 8, 66, 54, 78, 97, 54, 34, 67, 65, 56, 45, 54]\n",
    "\n",
    "for var2 in List_1:  \n",
    "    if var2 == 66:\n",
    "        break\n",
    "    if var2 % 2 == 0:  \n",
    "        print(str(var2)+ ' This number is even')\n",
    "    else:\n",
    "        print(str(var2)+ ' This number is odd')\n",
    "        \n",
    "print('The loop is done.')"
   ]
  },
  {
   "cell_type": "code",
   "execution_count": 10,
   "metadata": {},
   "outputs": [
    {
     "name": "stdout",
     "output_type": "stream",
     "text": [
      "1 This number is odd.\n",
      "4 This number is even.\n",
      "5 This number is odd.\n",
      "6 This number is even.\n",
      "3 This number is odd.\n",
      "2 This number is even.\n",
      "7 This number is odd.\n",
      "66 This number is even.\n",
      "54 This number is even.\n",
      "78 This number is even.\n",
      "97 This number is odd.\n",
      "54 This number is even.\n",
      "34 This number is even.\n",
      "67 This number is odd.\n",
      "The loop is done.\n"
     ]
    }
   ],
   "source": [
    "# Exercise 1.\n",
    "# Modifed: loop skips 8 and stops at 65. \n",
    "\n",
    "List_1 = [1, 4, 5, 6, 3, 2, 7, 8, 66, 54, 78, 97, 54, 34, 67, 65, 56, 45, 54]\n",
    "\n",
    "for var3 in List_1:  \n",
    "    if var3 == 8:\n",
    "        continue\n",
    "        \n",
    "    if var3 == 65:\n",
    "        break\n",
    "        \n",
    "    if var3 % 2 == 0:  \n",
    "        print(str(var3)+ ' This number is even.')\n",
    "    else:\n",
    "        print(str(var3)+ ' This number is odd.')\n",
    "        \n",
    "print('The loop is done.')"
   ]
  },
  {
   "cell_type": "code",
   "execution_count": 6,
   "metadata": {},
   "outputs": [
    {
     "name": "stdout",
     "output_type": "stream",
     "text": [
      "41 is a even number.\n",
      "53 is a even number.\n",
      "107 is a even number.\n",
      "53 is a even number.\n",
      "61 is a even number.\n",
      "The loop is done.\n"
     ]
    }
   ],
   "source": [
    "# Exercise 2. \n",
    "# Create a list and print out all odd numbers that are larger than 40. \n",
    "\n",
    "List_2 = [12, 41, 53, 62, 13, 22, 17, 1, 8, 6, 34, 98, 107, 53, 36, 61, 5, 16, 25, 74]\n",
    "\n",
    "i = 0\n",
    "while i < len(List_2):\n",
    "    if List_2[i] % 2 == 1 and List_2[i] > 40:\n",
    "        print(str(List_2[i])+ ' is a even number.')\n",
    "    i = i + 1 \n",
    "print('The loop is done.')"
   ]
  },
  {
   "cell_type": "code",
   "execution_count": 9,
   "metadata": {},
   "outputs": [
    {
     "name": "stdout",
     "output_type": "stream",
     "text": [
      "41 is a even number.\n",
      "53 is a even number.\n",
      "107 is a even number.\n",
      "53 is a even number.\n",
      "61 is a even number.\n",
      "The loop is done.\n"
     ]
    }
   ],
   "source": [
    "# Exercise 2. \n",
    "# Transform the while loop program to a for loop program. \n",
    "\n",
    "List_2 = [12, 41, 53, 62, 13, 22, 17, 1, 8, 6, 34, 98, 107, 53, 36, 61, 5, 16, 25, 74]\n",
    "\n",
    "for var in List_2:\n",
    "    if var % 2 == 1 and var > 40:\n",
    "        print(str(var)+ ' is a even number.')\n",
    "print('The loop is done.')"
   ]
  },
  {
   "cell_type": "code",
   "execution_count": null,
   "metadata": {},
   "outputs": [],
   "source": []
  }
 ],
 "metadata": {
  "kernelspec": {
   "display_name": "Python 3",
   "language": "python",
   "name": "python3"
  },
  "language_info": {
   "codemirror_mode": {
    "name": "ipython",
    "version": 3
   },
   "file_extension": ".py",
   "mimetype": "text/x-python",
   "name": "python",
   "nbconvert_exporter": "python",
   "pygments_lexer": "ipython3",
   "version": "3.7.0"
  }
 },
 "nbformat": 4,
 "nbformat_minor": 2
}
