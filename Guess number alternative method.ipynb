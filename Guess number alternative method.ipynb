{
 "cells": [
  {
   "cell_type": "code",
   "execution_count": null,
   "metadata": {},
   "outputs": [
    {
     "name": "stdout",
     "output_type": "stream",
     "text": [
      "AI: Let me give a guess. The number is: 50 ?\n",
      "Is it (Too high or Too low or Yes): Too high\n",
      "Is the number  49 ?\n",
      "Is it (Too high or Too low or Yes): Too high\n",
      "Is the number  48 ?\n",
      "Is it (Too high or Too low or Yes): Too high\n",
      "Is the number  47 ?\n"
     ]
    }
   ],
   "source": [
    "from time import sleep\n",
    "\n",
    "def guess_Next(guess,x):\n",
    "    if guess == \"Too high\":\n",
    "        x = x - 1\n",
    "        print ('Is the number ', x, '?')\n",
    "    elif guess == \"Too low\":\n",
    "        x = x + 1\n",
    "        print ('Is the number ', x, '?')\n",
    "    return x\n",
    "\n",
    "current = 50\n",
    "print ('AI: Let me give a guess. The number is:', current, '?')\n",
    "\n",
    "guess = \" \"\n",
    "while guess == \"Too high\" or guess == \"Too low\" or guess == \" \":\n",
    "    current = guess_Next(guess,current)\n",
    "    sleep(1)\n",
    "    guess = input (\"Is it (Too high or Too low or Yes): \")\n"
   ]
  },
  {
   "cell_type": "code",
   "execution_count": null,
   "metadata": {},
   "outputs": [],
   "source": []
  }
 ],
 "metadata": {
  "kernelspec": {
   "display_name": "Python 3",
   "language": "python",
   "name": "python3"
  },
  "language_info": {
   "codemirror_mode": {
    "name": "ipython",
    "version": 3
   },
   "file_extension": ".py",
   "mimetype": "text/x-python",
   "name": "python",
   "nbconvert_exporter": "python",
   "pygments_lexer": "ipython3",
   "version": "3.7.0"
  }
 },
 "nbformat": 4,
 "nbformat_minor": 2
}
