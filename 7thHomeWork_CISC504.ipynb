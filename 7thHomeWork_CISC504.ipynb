{
 "cells": [
  {
   "cell_type": "code",
   "execution_count": 2,
   "metadata": {},
   "outputs": [
    {
     "name": "stdout",
     "output_type": "stream",
     "text": [
      "Todays working hours: 10\n",
      "Todays income($): \n",
      "195.0\n",
      "Keep it up!\n"
     ]
    }
   ],
   "source": [
    "# HW Exercise 1: Write a conversion program, calculator, or write any other program \n",
    "# which uses a multi-way decision structure if, elif, else, and boolean logic to classify the outcome.\n",
    "\n",
    "standardsalary = 15\n",
    "overtime_rate = 0.5\n",
    "\n",
    "hours = float(input('Todays working hours: '))\n",
    "overtime = float\n",
    "if hours >= 8:\n",
    "    overtime = hours - 8\n",
    "else:\n",
    "    overtime = 0\n",
    "\n",
    "# A program help to calculater today's income with possible overtime salary.\n",
    "salary = hours*standardsalary + overtime*(1 + overtime_rate)*standardsalary\n",
    "\n",
    "print ('Todays income($): ')\n",
    "print (salary)\n",
    "if salary<120: print ('This might be slow day~')\n",
    "elif 120<=salary<200: print ('Keep it up!')\n",
    "elif salary>200: print ('Tough day, but $$$ is aswsome!')"
   ]
  },
  {
   "cell_type": "code",
   "execution_count": 1,
   "metadata": {},
   "outputs": [
    {
     "name": "stdout",
     "output_type": "stream",
     "text": [
      "Todays working hours: aaa\n",
      "Please end a valid number!\n",
      "Thank you for using this program!\n"
     ]
    }
   ],
   "source": [
    "# HW Exercise: Write a program which will generate some exceptions\n",
    "# then use the try,except, else, and finally statements to handle them.\n",
    "\n",
    "# Improve the program above by adding exception handling. \n",
    "\n",
    "standardsalary_v2 = 15\n",
    "overtime_rate_v2 = 0.5\n",
    "hours_v2 = 0\n",
    "overtime_v2 = float\n",
    "\n",
    "try: \n",
    "    hours_v2 = float(input('Todays working hours: '))  \n",
    "  \n",
    "    if hours_v2 >= 8:\n",
    "        overtime_v2 = hours_v2 - 8\n",
    "    else:\n",
    "        overtime_v2 = 0\n",
    "\n",
    "# A program help to calculater today's income with possible overtime salary.\n",
    "    salary_v2 = hours_v2*standardsalary_v2 + overtime_v2*(1 + overtime_rate_v2)*standardsalary_v2\n",
    "\n",
    "    print ('Todays income($): ')\n",
    "    print (salary_v2)\n",
    "    if salary_v2<120: print ('This might be slow day~')\n",
    "    elif 120<=salary_v2<200: print ('Keep it up!')\n",
    "    elif salary_v2>200: print ('Tough day, but $$$ is aswsome!')\n",
    "    \n",
    "except ValueError:\n",
    "    print ('Please end a valid number!')\n",
    "else:\n",
    "    print ('Code executed successfully!')\n",
    "finally:\n",
    "    print ('Thank you for using this program!')"
   ]
  },
  {
   "cell_type": "code",
   "execution_count": null,
   "metadata": {},
   "outputs": [],
   "source": []
  }
 ],
 "metadata": {
  "kernelspec": {
   "display_name": "Python 3",
   "language": "python",
   "name": "python3"
  },
  "language_info": {
   "codemirror_mode": {
    "name": "ipython",
    "version": 3
   },
   "file_extension": ".py",
   "mimetype": "text/x-python",
   "name": "python",
   "nbconvert_exporter": "python",
   "pygments_lexer": "ipython3",
   "version": "3.7.0"
  }
 },
 "nbformat": 4,
 "nbformat_minor": 2
}
