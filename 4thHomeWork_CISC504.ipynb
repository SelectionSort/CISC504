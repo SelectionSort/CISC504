{
 "cells": [
  {
   "cell_type": "code",
   "execution_count": 1,
   "metadata": {},
   "outputs": [],
   "source": [
    "# HW Exercise 1: Suppose you have a database with first and last name, the first entry is as follows:\n",
    "# First_name=John and last_name=Smith. Create the two variables and then use the slice and concatenate operations \n",
    "# to create a new variable which lists the first letter of first name and complete last name as follows: Jsmith."
   ]
  },
  {
   "cell_type": "code",
   "execution_count": 3,
   "metadata": {},
   "outputs": [],
   "source": [
    "# Create Firstname and Lastname variables\n",
    "Firstname = 'John'\n",
    "Lastname = 'Smith'"
   ]
  },
  {
   "cell_type": "code",
   "execution_count": 4,
   "metadata": {},
   "outputs": [
    {
     "data": {
      "text/plain": [
       "'J'"
      ]
     },
     "execution_count": 4,
     "metadata": {},
     "output_type": "execute_result"
    }
   ],
   "source": [
    "# Slice the first letter of Firstname\n",
    "Firstname[0:1]"
   ]
  },
  {
   "cell_type": "code",
   "execution_count": 5,
   "metadata": {},
   "outputs": [
    {
     "name": "stdout",
     "output_type": "stream",
     "text": [
      "Jsmith\n"
     ]
    }
   ],
   "source": [
    "# Concatenate first letter of first name with complete last name.\n",
    "Newname = Firstname[0:1] + Lastname.lower()\n",
    "print (Newname)"
   ]
  },
  {
   "cell_type": "code",
   "execution_count": 6,
   "metadata": {},
   "outputs": [],
   "source": [
    "# HW Exercise 2: You discovered that taking the first letter from every word in a sentence \n",
    "# you found on a piece of paper deciphers a secret message. \n",
    "# The sentence is as follows: Send eagle cross rainbow entire time. \n",
    "# Use the slice and concatenate functions or just slice function to decipher."
   ]
  },
  {
   "cell_type": "code",
   "execution_count": 7,
   "metadata": {},
   "outputs": [],
   "source": [
    "# Received the secret message. \n",
    "secret_msg = 'Send eagle cross rainbow entire time.'"
   ]
  },
  {
   "cell_type": "code",
   "execution_count": 22,
   "metadata": {},
   "outputs": [
    {
     "name": "stdout",
     "output_type": "stream",
     "text": [
      "Secret\n"
     ]
    }
   ],
   "source": [
    "# Decode the secret message.\n",
    "decoded_msg = secret_msg[0:1] + secret_msg[5:6] + secret_msg[11:12] + secret_msg[17:18] + secret_msg[25:26] + secret_msg[32:33]\n",
    "print (decoded_msg)"
   ]
  },
  {
   "cell_type": "code",
   "execution_count": 23,
   "metadata": {},
   "outputs": [],
   "source": [
    "# HW Exercise 3: Write a program to decrypt the message, \n",
    "# there are many ways to compute a solution, one way is to use the ord function."
   ]
  },
  {
   "cell_type": "code",
   "execution_count": 1,
   "metadata": {},
   "outputs": [
    {
     "name": "stdout",
     "output_type": "stream",
     "text": [
      "Input message you would like encrypted:\n",
      "This is a new secret\n",
      "rfgq gq y lcu qcapcr\n"
     ]
    }
   ],
   "source": [
    "from string import ascii_lowercase as Characters\n",
    "\n",
    "def shift(message, offset):\n",
    "    trans = str.maketrans(Characters, Characters[offset:] + Characters[:offset])\n",
    "    return message.lower().translate(trans)\n",
    "\n",
    "print(shift(input(\"Input message you would like encrypted:\\n\"), -2))"
   ]
  },
  {
   "cell_type": "code",
   "execution_count": 4,
   "metadata": {},
   "outputs": [
    {
     "name": "stdout",
     "output_type": "stream",
     "text": [
      "\n",
      "Enter the message you would like to decrypt: \n",
      "rfgq gq y lcu qcapcr\n",
      "This is a new secret\n",
      "\n"
     ]
    }
   ],
   "source": [
    "# Use ord function to decode the message from above.\n",
    "# rfgq gq y lcu qcapcr\n",
    "\n",
    "decoded_msg = ''\n",
    "secret = ''\n",
    "\n",
    "secret = input(\"\\nEnter the message you would like to decrypt: \\n\")\n",
    "i=0\n",
    "while i < len(secret):\n",
    "    if ord(secret[i]) == 32:\n",
    "        decoded_msg = decoded_msg + ' '\n",
    "    elif ord(secret[i]) == 121:\n",
    "        decoded_msg = decoded_msg + 'a'\n",
    "    elif ord(secret[i]) == 122:\n",
    "        decoded_msg = decoded_msg + 'b'\n",
    "    else:\n",
    "        decoded_msg = decoded_msg + chr(ord(secret[i]) + 2)\n",
    "    i +=1\n",
    "#Capitalize the first letter of the decoded message.\n",
    "decoded_msg = decoded_msg[0].upper() + decoded_msg[1:]\n",
    "print (decoded_msg + '\\n')"
   ]
  },
  {
   "cell_type": "code",
   "execution_count": null,
   "metadata": {},
   "outputs": [],
   "source": []
  }
 ],
 "metadata": {
  "kernelspec": {
   "display_name": "Python 3",
   "language": "python",
   "name": "python3"
  },
  "language_info": {
   "codemirror_mode": {
    "name": "ipython",
    "version": 3
   },
   "file_extension": ".py",
   "mimetype": "text/x-python",
   "name": "python",
   "nbconvert_exporter": "python",
   "pygments_lexer": "ipython3",
   "version": "3.7.0"
  }
 },
 "nbformat": 4,
 "nbformat_minor": 2
}
