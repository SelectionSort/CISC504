{
 "cells": [
  {
   "cell_type": "code",
   "execution_count": 16,
   "metadata": {},
   "outputs": [
    {
     "data": {
      "text/plain": [
       "35"
      ]
     },
     "execution_count": 16,
     "metadata": {},
     "output_type": "execute_result"
    }
   ],
   "source": [
    "# HW Exercise 1: Write a Python function which will sum all the following listed items (5,8,2,4,7,9)\n",
    "\n",
    "n_list=[5,8,2,4,7,9]\n",
    "\n",
    "def function_sum(x):\n",
    "    sum = x[0]\n",
    "    for i in range (1, len(x)):\n",
    "        sum = sum + x[i]\n",
    "    return sum\n",
    "\n",
    "function_sum(n_list)"
   ]
  },
  {
   "cell_type": "code",
   "execution_count": 17,
   "metadata": {},
   "outputs": [
    {
     "data": {
      "text/plain": [
       "720"
      ]
     },
     "execution_count": 17,
     "metadata": {},
     "output_type": "execute_result"
    }
   ],
   "source": [
    "# HW Exercise 2: Write a Python function which will find the product/multiply the items in the following list: (4,3,5,6,2)\n",
    "\n",
    "n_list2=[4,3,5,6,2]\n",
    "\n",
    "def function_product(x):\n",
    "    product = x[0]\n",
    "    for i in range (1, len(x)):\n",
    "        product = product*x[i]\n",
    "    return product\n",
    "\n",
    "function_product(n_list2)"
   ]
  },
  {
   "cell_type": "code",
   "execution_count": 19,
   "metadata": {},
   "outputs": [
    {
     "name": "stdout",
     "output_type": "stream",
     "text": [
      "[[5 5 8 8 9 8]\n",
      " [7 7 5 3 5 7]\n",
      " [8 7 8 4 2 6]\n",
      " [9 9 7 3 1 4]]\n"
     ]
    }
   ],
   "source": [
    "# HW Exercise: Given the following array:\n",
    "import numpy as np\n",
    "array_hw=np.array([[5,5,8,8,9,8],[7,7,5,3,5,7],[8,7,8,4,2,6],[9,9,7,3,1,4]])\n",
    "print(array_hw)"
   ]
  },
  {
   "cell_type": "code",
   "execution_count": 24,
   "metadata": {},
   "outputs": [
    {
     "name": "stdout",
     "output_type": "stream",
     "text": [
      "Flattened array\n",
      "[5 5 8 8 9 8 7 7 5 3 5 7 8 7 8 4 2 6 9 9 7 3 1 4]\n",
      "\n",
      "Sort the flattened array\n"
     ]
    },
    {
     "data": {
      "text/plain": [
       "array([1, 2, 3, 3, 4, 4, 5, 5, 5, 5, 6, 7, 7, 7, 7, 7, 8, 8, 8, 8, 8, 9,\n",
       "       9, 9])"
      ]
     },
     "execution_count": 24,
     "metadata": {},
     "output_type": "execute_result"
    }
   ],
   "source": [
    "# a) Sort the flattened array\n",
    "flat_array=array_hw.flatten()\n",
    "print('Flattened array')\n",
    "print(flat_array)\n",
    "print('')\n",
    "print('Sort the flattened array')\n",
    "np.sort(flat_array, axis=None)"
   ]
  },
  {
   "cell_type": "code",
   "execution_count": 31,
   "metadata": {},
   "outputs": [
    {
     "name": "stdout",
     "output_type": "stream",
     "text": [
      "Array_hw:\n",
      "[[5 5 8 8 9 8]\n",
      " [7 7 5 3 5 7]\n",
      " [8 7 8 4 2 6]\n",
      " [9 9 7 3 1 4]]\n",
      "\n",
      "Slice the second column:\n",
      "[5 7 7 9]\n",
      "\n",
      "Sort the second column:\n"
     ]
    },
    {
     "data": {
      "text/plain": [
       "array([5, 7, 7, 9])"
      ]
     },
     "execution_count": 31,
     "metadata": {},
     "output_type": "execute_result"
    }
   ],
   "source": [
    "# b) Sort the second column\n",
    "print('Array_hw:')\n",
    "print(array_hw)\n",
    "print('')\n",
    "print('Slice the second column:')\n",
    "array_2nd_column=array_hw[...,1]\n",
    "print(array_2nd_column)\n",
    "print('')\n",
    "print('Sort the second column:')\n",
    "np.sort(array_2nd_column)"
   ]
  },
  {
   "cell_type": "code",
   "execution_count": 32,
   "metadata": {},
   "outputs": [
    {
     "name": "stdout",
     "output_type": "stream",
     "text": [
      "Array_hw:\n",
      "[[5 5 8 8 9 8]\n",
      " [7 7 5 3 5 7]\n",
      " [8 7 8 4 2 6]\n",
      " [9 9 7 3 1 4]]\n",
      "\n",
      "Slice the third row:\n",
      "[8 7 8 4 2 6]\n",
      "\n",
      "Sort the third row:\n"
     ]
    },
    {
     "data": {
      "text/plain": [
       "array([2, 4, 6, 7, 8, 8])"
      ]
     },
     "execution_count": 32,
     "metadata": {},
     "output_type": "execute_result"
    }
   ],
   "source": [
    "# c) Sort the third row\n",
    "print('Array_hw:')\n",
    "print(array_hw)\n",
    "print('')\n",
    "print('Slice the third row:')\n",
    "array_3rd_row=array_hw[2,...]\n",
    "print(array_3rd_row)\n",
    "print('')\n",
    "print('Sort the third row:')\n",
    "np.sort(array_3rd_row)"
   ]
  },
  {
   "cell_type": "code",
   "execution_count": 41,
   "metadata": {},
   "outputs": [
    {
     "name": "stdout",
     "output_type": "stream",
     "text": [
      "Array_hw:\n",
      "[[5 5 8 8 9 8]\n",
      " [7 7 5 3 5 7]\n",
      " [8 7 8 4 2 6]\n",
      " [9 9 7 3 1 4]]\n",
      "\n",
      "Extract the second row onwards:\n",
      "[[7 7 5 3 5 7]\n",
      " [8 7 8 4 2 6]\n",
      " [9 9 7 3 1 4]]\n"
     ]
    }
   ],
   "source": [
    "# d) Extract the second row onwards\n",
    "print ('Array_hw:')\n",
    "print (array_hw)\n",
    "print('')\n",
    "print('Extract the second row onwards:')\n",
    "array_2nd_row_on=array_hw[1:,...]\n",
    "print(array_2nd_row_on)"
   ]
  },
  {
   "cell_type": "code",
   "execution_count": 36,
   "metadata": {},
   "outputs": [
    {
     "name": "stdout",
     "output_type": "stream",
     "text": [
      "Array_hw:\n",
      "[[5 5 8 8 9 8]\n",
      " [7 7 5 3 5 7]\n",
      " [8 7 8 4 2 6]\n",
      " [9 9 7 3 1 4]]\n",
      "\n",
      "Extract the third column onwards:\n",
      "[[8 8 9 8]\n",
      " [5 3 5 7]\n",
      " [8 4 2 6]\n",
      " [7 3 1 4]]\n"
     ]
    }
   ],
   "source": [
    "# e) Extract the third column onwards\n",
    "print('Array_hw:')\n",
    "print(array_hw)\n",
    "print('')\n",
    "print('Extract the third column onwards:')\n",
    "array_3rd_column_on=array_hw[...,2:]\n",
    "print(array_3rd_column_on)"
   ]
  },
  {
   "cell_type": "code",
   "execution_count": 40,
   "metadata": {},
   "outputs": [
    {
     "name": "stdout",
     "output_type": "stream",
     "text": [
      "Array_hw:\n",
      "[[5 5 8 8 9 8]\n",
      " [7 7 5 3 5 7]\n",
      " [8 7 8 4 2 6]\n",
      " [9 9 7 3 1 4]]\n",
      "\n",
      "Obtain the square of array_hw:\n"
     ]
    },
    {
     "data": {
      "text/plain": [
       "array([[2.23606798, 2.23606798, 2.82842712, 2.82842712, 3.        ,\n",
       "        2.82842712],\n",
       "       [2.64575131, 2.64575131, 2.23606798, 1.73205081, 2.23606798,\n",
       "        2.64575131],\n",
       "       [2.82842712, 2.64575131, 2.82842712, 2.        , 1.41421356,\n",
       "        2.44948974],\n",
       "       [3.        , 3.        , 2.64575131, 1.73205081, 1.        ,\n",
       "        2.        ]])"
      ]
     },
     "execution_count": 40,
     "metadata": {},
     "output_type": "execute_result"
    }
   ],
   "source": [
    "# f) obtain the square of array_hw\n",
    "print('Array_hw:')\n",
    "print(array_hw)\n",
    "print('')\n",
    "print('Obtain the square of array_hw:')\n",
    "np.sqrt(array_hw)"
   ]
  },
  {
   "cell_type": "code",
   "execution_count": 43,
   "metadata": {},
   "outputs": [
    {
     "name": "stdout",
     "output_type": "stream",
     "text": [
      "Array_hw:\n",
      "[[5 5 8 8 9 8]\n",
      " [7 7 5 3 5 7]\n",
      " [8 7 8 4 2 6]\n",
      " [9 9 7 3 1 4]]\n",
      "\n",
      "Slice the element from the third row and fourth column position 3X4:\n",
      "4\n"
     ]
    }
   ],
   "source": [
    "# g)Slice the element from the third row and fourth column position 3X4\n",
    "print('Array_hw:')\n",
    "print(array_hw)\n",
    "print('')\n",
    "print('Slice the element from the third row and fourth column position 3X4:')\n",
    "print(array_hw[2,3])"
   ]
  },
  {
   "cell_type": "code",
   "execution_count": 44,
   "metadata": {},
   "outputs": [
    {
     "name": "stdout",
     "output_type": "stream",
     "text": [
      "Array_hw:\n",
      "[[5 5 8 8 9 8]\n",
      " [7 7 5 3 5 7]\n",
      " [8 7 8 4 2 6]\n",
      " [9 9 7 3 1 4]]\n",
      "\n",
      "Obtain the total sum of array_hw:\n",
      "145\n"
     ]
    }
   ],
   "source": [
    "# f) obtain the total sum of array_hw\n",
    "print('Array_hw:')\n",
    "print(array_hw)\n",
    "print('')\n",
    "print('Obtain the total sum of array_hw:')\n",
    "print(array_hw.sum())"
   ]
  },
  {
   "cell_type": "code",
   "execution_count": 50,
   "metadata": {},
   "outputs": [
    {
     "name": "stdout",
     "output_type": "stream",
     "text": [
      "How many dimentions does array_hw have?\n"
     ]
    },
    {
     "data": {
      "text/plain": [
       "2"
      ]
     },
     "execution_count": 50,
     "metadata": {},
     "output_type": "execute_result"
    }
   ],
   "source": [
    "# h) How many dimentions does array_hw have?\n",
    "print('How many dimentions does array_hw have?')\n",
    "array_hw.ndim"
   ]
  },
  {
   "cell_type": "code",
   "execution_count": 48,
   "metadata": {},
   "outputs": [
    {
     "name": "stdout",
     "output_type": "stream",
     "text": [
      "What is the data type listed in array_hw?\n"
     ]
    },
    {
     "data": {
      "text/plain": [
       "numpy.ndarray"
      ]
     },
     "execution_count": 48,
     "metadata": {},
     "output_type": "execute_result"
    }
   ],
   "source": [
    "# i) What is the data type listed in array_hw?\n",
    "print('What is the data type listed in array_hw?')\n",
    "type(array_hw)"
   ]
  },
  {
   "cell_type": "code",
   "execution_count": 51,
   "metadata": {},
   "outputs": [
    {
     "data": {
      "text/plain": [
       "96"
      ]
     },
     "execution_count": 51,
     "metadata": {},
     "output_type": "execute_result"
    }
   ],
   "source": [
    "# j) What is the size of the memory in bytes consumed by all the elements in array_hw?\n",
    "array_hw.nbytes"
   ]
  },
  {
   "cell_type": "code",
   "execution_count": null,
   "metadata": {},
   "outputs": [],
   "source": []
  }
 ],
 "metadata": {
  "kernelspec": {
   "display_name": "Python 3",
   "language": "python",
   "name": "python3"
  },
  "language_info": {
   "codemirror_mode": {
    "name": "ipython",
    "version": 3
   },
   "file_extension": ".py",
   "mimetype": "text/x-python",
   "name": "python",
   "nbconvert_exporter": "python",
   "pygments_lexer": "ipython3",
   "version": "3.7.0"
  }
 },
 "nbformat": 4,
 "nbformat_minor": 2
}
