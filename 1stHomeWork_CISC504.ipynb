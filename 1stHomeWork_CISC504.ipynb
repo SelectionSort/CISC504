{
 "cells": [
  {
   "cell_type": "code",
   "execution_count": 6,
   "metadata": {},
   "outputs": [
    {
     "name": "stdout",
     "output_type": "stream",
     "text": [
      "14\n"
     ]
    }
   ],
   "source": [
    "# Exercise 1\n",
    "# The following statement is a simple arithmetic addition\n",
    "print (12 + 2)\n",
    "# It is equivalent to numerical addition: 12 + 2 = 14"
   ]
  },
  {
   "cell_type": "code",
   "execution_count": 7,
   "metadata": {},
   "outputs": [
    {
     "name": "stdout",
     "output_type": "stream",
     "text": [
      "122\n"
     ]
    }
   ],
   "source": [
    "# Exercise 1\n",
    "# The following statement is a string addition\n",
    "print ('12' + '2')\n",
    "# It is equivalent to joining or concatenating words: '12' + '2' = '122'"
   ]
  },
  {
   "cell_type": "code",
   "execution_count": 4,
   "metadata": {},
   "outputs": [],
   "source": [
    "# Exercise 2\n",
    "# The following is a statement which defines a yearTrace function which requires user input. (Numeric Variables)\n",
    "def yearTrace (year1,year2):   \n",
    "    print ('On', year1, ', you started college;''\\n''On', year2, ', you finished graduate school.')\n",
    "    print ('The years you are in college')\n",
    "# The following is computational statement showing years in college\n",
    "    print(list (range(year1,year1+5)))\n",
    "# The following is computational statement showing years in graduate school\n",
    "    print ('The years you are in graduate school.')\n",
    "    print(list (range(year1+4,year2+1)))"
   ]
  },
  {
   "cell_type": "code",
   "execution_count": 5,
   "metadata": {},
   "outputs": [
    {
     "name": "stdout",
     "output_type": "stream",
     "text": [
      "On 2006 , you started college;\n",
      "On 2015 , you finished graduate school.\n",
      "The years you are in college\n",
      "[2006, 2007, 2008, 2009, 2010]\n",
      "The years you are in graduate school.\n",
      "[2010, 2011, 2012, 2013, 2014, 2015]\n"
     ]
    }
   ],
   "source": [
    "# The user types start year of college and end year of graduate school\n",
    "yearTrace(2006,2015)"
   ]
  },
  {
   "cell_type": "code",
   "execution_count": 8,
   "metadata": {},
   "outputs": [],
   "source": [
    "# Exercise 2\n",
    "# The following is a statement which defines a game warningMsg function which requires user input. (String Variables)\n",
    "def warningMsg (playerName1,playerName2,x):   \n",
    "# The following statement shows the game rule to the players.\n",
    "    print (playerName1,'and',playerName2,'You will be warned',x,'times before you lose the game!', '\\n\\n''Example messages will be shown below:''\\n')\n",
    "# The following is a computational statement showing the examples of warning messages for x times.\n",
    "    for i in range(x):print(playerName1 + ' and ' + playerName2 + '! This is your warinng!')"
   ]
  },
  {
   "cell_type": "code",
   "execution_count": 9,
   "metadata": {},
   "outputs": [
    {
     "name": "stdout",
     "output_type": "stream",
     "text": [
      "Maggie and Eason You will be warned 5 times before you lose the game! \n",
      "\n",
      "Example messages will be shown below:\n",
      "\n",
      "Maggie and Eason! This is your warinng!\n",
      "Maggie and Eason! This is your warinng!\n",
      "Maggie and Eason! This is your warinng!\n",
      "Maggie and Eason! This is your warinng!\n",
      "Maggie and Eason! This is your warinng!\n"
     ]
    }
   ],
   "source": [
    "# The user types two players name and times of warning before losing the game\n",
    "warningMsg('Maggie','Eason',5)"
   ]
  },
  {
   "cell_type": "code",
   "execution_count": null,
   "metadata": {},
   "outputs": [],
   "source": []
  }
 ],
 "metadata": {
  "kernelspec": {
   "display_name": "Python 3",
   "language": "python",
   "name": "python3"
  },
  "language_info": {
   "codemirror_mode": {
    "name": "ipython",
    "version": 3
   },
   "file_extension": ".py",
   "mimetype": "text/x-python",
   "name": "python",
   "nbconvert_exporter": "python",
   "pygments_lexer": "ipython3",
   "version": "3.7.0"
  }
 },
 "nbformat": 4,
 "nbformat_minor": 2
}
